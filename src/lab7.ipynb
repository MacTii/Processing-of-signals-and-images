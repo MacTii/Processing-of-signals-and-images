{
 "cells": [
  {
   "cell_type": "markdown",
   "metadata": {},
   "source": [
    "<h1>Zadanie 1<h1>"
   ]
  },
  {
   "cell_type": "code",
   "execution_count": 16,
   "metadata": {},
   "outputs": [],
   "source": [
    "import cv2\n",
    "import numpy as np\n",
    "\n",
    "face_cascade = cv2.CascadeClassifier(cv2.data.haarcascades + 'haarcascade_frontalface_default.xml')\n",
    "eye_cascade = cv2.CascadeClassifier(cv2.data.haarcascades + 'haarcascade_eye.xml')\n",
    "\n",
    "video = cv2.VideoCapture('video.mp4')\n",
    "image = cv2.imread('obraz.png')"
   ]
  },
  {
   "cell_type": "code",
   "execution_count": 17,
   "metadata": {},
   "outputs": [],
   "source": [
    "while True:\n",
    "    check, frames = video.read()\n",
    "    frame_gray = cv2.cvtColor(frames, cv2.COLOR_BGR2GRAY)\n",
    "\n",
    "    faces = face_cascade.detectMultiScale(frame_gray, 1.1, 4)\n",
    "    for (x, y, w, h) in faces:\n",
    "\n",
    "        face_rectangle = cv2.rectangle(frames, (x, y), (x+w, y+h), (255, 0, 0), 2)\n",
    "        face_gray = frame_gray[y:y+h, x:x+w]\n",
    "        face_color = face_rectangle[y:y+h, x:x+w]\n",
    "\n",
    "        eyes = eye_cascade.detectMultiScale(face_gray)\n",
    "        for (x2, y2, w2, h2) in eyes:\n",
    "            cv2.rectangle(face_color, (x2, y2), (x2+w2, y2+h2), (0, 255, 0), 2)\n",
    "            \n",
    "    cv2.imshow('video', frames)\n",
    "\n",
    "    if cv2.waitKey(1) & 0xFF == ord('q'):\n",
    "        break\n",
    "\n",
    "video.release()\n",
    "cv2.destroyAllWindows()"
   ]
  },
  {
   "cell_type": "markdown",
   "metadata": {},
   "source": [
    "<h1>Zadanie 2<h1>"
   ]
  },
  {
   "cell_type": "code",
   "execution_count": 18,
   "metadata": {},
   "outputs": [],
   "source": [
    "img = cv2.pyrDown(image)\n",
    "img_gray = cv2.cvtColor(img, cv2.COLOR_BGR2GRAY)\n",
    "img_blur = cv2.GaussianBlur(img_gray,(5,5),0,0)\n",
    "img_edge = cv2.Canny(img_blur, 60, 120)\n",
    "\n",
    "cv2.imshow(\"\", img_edge)\n",
    "cv2.waitKey(0)\n",
    "cv2.destroyAllWindows()"
   ]
  }
 ],
 "metadata": {
  "interpreter": {
   "hash": "bb6adee00b596c2657daaaf31291f4f836a4a5b6d54d5fe1fa0dd7132a1ecaef"
  },
  "kernelspec": {
   "display_name": "Python 3.9.4 64-bit ('venv': venv)",
   "language": "python",
   "name": "python3"
  },
  "language_info": {
   "codemirror_mode": {
    "name": "ipython",
    "version": 3
   },
   "file_extension": ".py",
   "mimetype": "text/x-python",
   "name": "python",
   "nbconvert_exporter": "python",
   "pygments_lexer": "ipython3",
   "version": "3.9.4"
  },
  "orig_nbformat": 4
 },
 "nbformat": 4,
 "nbformat_minor": 2
}
